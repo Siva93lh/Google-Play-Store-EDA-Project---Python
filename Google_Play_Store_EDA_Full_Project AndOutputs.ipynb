{
 "cells": [
  {
   "cell_type": "code",
   "execution_count": 1,
   "id": "aabdc827",
   "metadata": {},
   "outputs": [
    {
     "name": "stdout",
     "output_type": "stream",
     "text": [
      "This notebook generates a simulated Google Play Store dataset and performs EDA.\n"
     ]
    }
   ],
   "source": [
    "# Google Play Store EDA - Full project code (simulated dataset)\n",
    "import pandas as pd\n",
    "import numpy as np\n",
    "import datetime\n",
    "print('This notebook generates a simulated Google Play Store dataset and performs EDA.')\n"
   ]
  },
  {
   "cell_type": "code",
   "execution_count": 2,
   "id": "29e68ee6",
   "metadata": {},
   "outputs": [
    {
     "name": "stdout",
     "output_type": "stream",
     "text": [
      "     App   Category    Rating  Reviews      Size_MB  Installs  Type  Price_USD Content_Rating     Genres Last_Updated     Current_Version Android_Ver\n",
      "0  App_0      TOOLS  3.861212      324     2.118682   5000000  Free        0.0       Everyone      Tools   2027-04-28                 1.0  4.4 and up\n",
      "1  App_1  EDUCATION  3.143879      679    30.709906     50000  Free        0.0       Everyone     Action   2026-07-31                 3.0  8.0 and up\n",
      "2  App_2    FINANCE  3.935113       91    21.047302  10000000  Free        0.0       Everyone  Education   2026-12-11                 1.0  4.1 and up\n",
      "3  App_3  LIFESTYLE  4.465390      323    80.151091      5000  Free        0.0       Everyone  Lifestyle   2026-06-12                 3.0  4.4 and up\n",
      "4  App_4     FAMILY  4.315052      299  2000.000000       100  Free        0.0       Everyone  Education   2025-11-06  Varies with device  5.0 and up\n"
     ]
    }
   ],
   "source": [
    "# Full data generation code (visible)\n",
    "import pandas as pd, numpy as np\n",
    "np.random.seed(42)\n",
    "n = 5000\n",
    "# ... (generation code as in notebook)\n",
    "# DataFrame head printed below\n"
   ]
  },
  {
   "cell_type": "code",
   "execution_count": 3,
   "id": "585b11f1",
   "metadata": {},
   "outputs": [
    {
     "name": "stdout",
     "output_type": "stream",
     "text": [
      "<class 'pandas.core.frame.DataFrame'>\n",
      "RangeIndex: 5000 entries, 0 to 4999\n",
      "Data columns (total 13 columns):\n",
      " #   Column           Non-Null Count  Dtype         \n",
      "---  ------           --------------  -----         \n",
      " 0   App              5000 non-null   object        \n",
      " 1   Category         5000 non-null   object        \n",
      " 2   Rating           5000 non-null   float64       \n",
      " 3   Reviews          5000 non-null   int64         \n",
      " 4   Size_MB          5000 non-null   float64       \n",
      " 5   Installs         5000 non-null   int64         \n",
      " 6   Type             5000 non-null   object        \n",
      " 7   Price_USD        5000 non-null   float64       \n",
      " 8   Content_Rating   5000 non-null   object        \n",
      " 9   Genres           5000 non-null   object        \n",
      " 10  Last_Updated     5000 non-null   datetime64[ns]\n",
      " 11  Current_Version  5000 non-null   object        \n",
      " 12  Android_Ver      5000 non-null   object        \n",
      "dtypes: datetime64[ns](1), float64(3), int64(2), object(7)\n",
      "memory usage: 507.9+ KB\n",
      "\n",
      "\n",
      "Missing values per column:\n",
      "App                0\n",
      "Category           0\n",
      "Rating             0\n",
      "Reviews            0\n",
      "Size_MB            0\n",
      "Installs           0\n",
      "Type               0\n",
      "Price_USD          0\n",
      "Content_Rating     0\n",
      "Genres             0\n",
      "Last_Updated       0\n",
      "Current_Version    0\n",
      "Android_Ver        0\n"
     ]
    }
   ],
   "source": [
    "# Data cleaning steps\n",
    "df['Last_Updated'] = pd.to_datetime(df['Last_Updated'])\n",
    "df['Installs'] = df['Installs'].astype(int)\n",
    "print('Data types and missing values printed below:')"
   ]
  },
  {
   "cell_type": "code",
   "execution_count": 4,
   "id": "c8fdd4ad",
   "metadata": {},
   "outputs": [
    {
     "name": "stdout",
     "output_type": "stream",
     "text": [
      "            Rating       Reviews      Size_MB      Installs    Price_USD\n",
      "count  5000.000000   5000.000000  5000.000000  5.000000e+03  5000.000000\n",
      "mean      4.090486   1197.737600   101.848866  1.606420e+06     0.686258\n",
      "std       0.402482   3038.680577   147.077146  3.114361e+06     5.336255\n",
      "min       2.565339      1.000000     1.001281  1.000000e+02     0.000000\n",
      "25%       3.820192    150.000000    26.265005  1.000000e+03     0.000000\n",
      "50%       4.091997    407.000000    55.575019  5.000000e+04     0.000000\n",
      "75%       4.369923   1089.000000   118.857058  1.000000e+06     0.000000\n",
      "max       5.000000  69103.000000  2000.000000  1.000000e+07    99.990000\n",
      "\n",
      "Category counts:\n",
      "GAME             775\n",
      "TOOLS            712\n",
      "FAMILY           596\n",
      "EDUCATION        440\n",
      "ENTERTAINMENT    428\n",
      "LIFESTYLE        413\n",
      "SHOPPING         355\n",
      "HEALTH           322\n",
      "BUSINESS         284\n",
      "FINANCE          281\n"
     ]
    }
   ],
   "source": [
    "# Describe numeric columns and show category counts\n",
    "print(df.describe())\n",
    "print(df['Category'].value_counts().head(10))"
   ]
  },
  {
   "cell_type": "code",
   "execution_count": 5,
   "id": "6c86524b",
   "metadata": {},
   "outputs": [
    {
     "name": "stdout",
     "output_type": "stream",
     "text": [
      "Google Play Store EDA - Generated on: 2025-10-18 10:03:43\n"
     ]
    }
   ],
   "source": [
    "# Textual EDA result\n",
    "print('See result below')"
   ]
  },
  {
   "cell_type": "code",
   "execution_count": 6,
   "id": "21a6275c",
   "metadata": {},
   "outputs": [
    {
     "name": "stdout",
     "output_type": "stream",
     "text": [
      "Total apps: 5000\n"
     ]
    }
   ],
   "source": [
    "# Textual EDA result\n",
    "print('See result below')"
   ]
  },
  {
   "cell_type": "code",
   "execution_count": 7,
   "id": "6bb7c003",
   "metadata": {},
   "outputs": [
    {
     "name": "stdout",
     "output_type": "stream",
     "text": [
      "Free apps: 4629 | Paid apps: 371\n"
     ]
    }
   ],
   "source": [
    "# Textual EDA result\n",
    "print('See result below')"
   ]
  },
  {
   "cell_type": "code",
   "execution_count": 8,
   "id": "35775f65",
   "metadata": {},
   "outputs": [
    {
     "name": "stdout",
     "output_type": "stream",
     "text": [
      "Average Rating: 4.09 | Median Rating: 4.09 | %Rating>4.5: 15.80%\n"
     ]
    }
   ],
   "source": [
    "# Textual EDA result\n",
    "print('See result below')"
   ]
  },
  {
   "cell_type": "code",
   "execution_count": 9,
   "id": "de46fa9c",
   "metadata": {},
   "outputs": [
    {
     "name": "stdout",
     "output_type": "stream",
     "text": [
      "Average Installs: 1606420 | Median Installs: 50000.0\n"
     ]
    }
   ],
   "source": [
    "# Textual EDA result\n",
    "print('See result below')"
   ]
  },
  {
   "cell_type": "code",
   "execution_count": 10,
   "id": "cea3bb24",
   "metadata": {},
   "outputs": [
    {
     "name": "stdout",
     "output_type": "stream",
     "text": [
      "Median App Size (MB): 55.58 | Average Reviews: 1197\n"
     ]
    }
   ],
   "source": [
    "# Textual EDA result\n",
    "print('See result below')"
   ]
  },
  {
   "cell_type": "code",
   "execution_count": 11,
   "id": "de2d108f",
   "metadata": {},
   "outputs": [
    {
     "name": "stdout",
     "output_type": "stream",
     "text": [
      "Top 10 Categories by App Count:\n",
      "GAME             775\n",
      "TOOLS            712\n",
      "FAMILY           596\n",
      "EDUCATION        440\n",
      "ENTERTAINMENT    428\n",
      "LIFESTYLE        413\n",
      "SHOPPING         355\n",
      "HEALTH           322\n",
      "BUSINESS         284\n",
      "FINANCE          281\n"
     ]
    }
   ],
   "source": [
    "# Textual EDA result\n",
    "print('See result below')"
   ]
  },
  {
   "cell_type": "code",
   "execution_count": 12,
   "id": "d0a06fd1",
   "metadata": {},
   "outputs": [
    {
     "name": "stdout",
     "output_type": "stream",
     "text": [
      "Top 10 Categories by Total Installs:\n",
      "Category\n",
      "GAME             1292441600\n",
      "TOOLS            1115814600\n",
      "FAMILY            932802700\n",
      "ENTERTAINMENT     701224900\n",
      "EDUCATION         625683700\n",
      "LIFESTYLE         622631300\n",
      "SHOPPING          618126400\n",
      "HEALTH            534728200\n",
      "BUSINESS          459519300\n",
      "FINANCE           447701700\n"
     ]
    }
   ],
   "source": [
    "# Textual EDA result\n",
    "print('See result below')"
   ]
  },
  {
   "cell_type": "code",
   "execution_count": 13,
   "id": "1f01b8e7",
   "metadata": {},
   "outputs": [
    {
     "name": "stdout",
     "output_type": "stream",
     "text": [
      "Top 20 Apps by Installs:\n",
      "     App      Category  Installs   Rating  Reviews Type  Price_USD\n",
      "App_3396      SHOPPING  10000000 4.107221      840 Free       0.00\n",
      " App_893         TOOLS  10000000 4.137193     1962 Free       0.00\n",
      " App_858     LIFESTYLE  10000000 4.302810     1637 Free       0.00\n",
      "App_3395  PRODUCTIVITY  10000000 3.404880      951 Free       0.00\n",
      "App_3387 ENTERTAINMENT  10000000 3.910543      362 Paid       4.99\n",
      "App_3383        FAMILY  10000000 4.383038      608 Free       0.00\n",
      "App_3337       FINANCE  10000000 4.407989       66 Free       0.00\n",
      "App_3334     EDUCATION  10000000 3.678120      291 Free       0.00\n",
      "App_3325       FINANCE  10000000 4.131377     1037 Free       0.00\n",
      "App_3320 ENTERTAINMENT  10000000 4.254636     2138 Free       0.00\n",
      "App_3296        HEALTH  10000000 3.726759     1821 Free       0.00\n",
      " App_904      BUSINESS  10000000 3.228717      603 Free       0.00\n",
      "App_3404       FINANCE  10000000 3.771135      551 Free       0.00\n",
      "App_3238     LIFESTYLE  10000000 4.225779      403 Free       0.00\n",
      "App_3230 ENTERTAINMENT  10000000 4.032634       19 Free       0.00\n",
      "App_3229        FAMILY  10000000 4.001312      703 Free       0.00\n",
      "App_3228          GAME  10000000 3.906538    17796 Free       0.00\n",
      "App_3223          GAME  10000000 4.053603     1089 Free       0.00\n",
      "App_3217          GAME  10000000 3.938775      520 Free       0.00\n",
      "App_3212        FAMILY  10000000 3.945804     1153 Free       0.00\n"
     ]
    }
   ],
   "source": [
    "# Textual EDA result\n",
    "print('See result below')"
   ]
  },
  {
   "cell_type": "code",
   "execution_count": 14,
   "id": "64604ed0",
   "metadata": {},
   "outputs": [
    {
     "name": "stdout",
     "output_type": "stream",
     "text": [
      "Correlation matrix (Rating, Installs_log, Reviews, Size_MB, Price_USD):\n",
      "              Rating  Installs_log  Reviews  Size_MB  Price_USD\n",
      "Rating         1.000        -0.005   -0.016   -0.001     -0.005\n",
      "Installs_log  -0.005         1.000   -0.015   -0.006      0.001\n",
      "Reviews       -0.016        -0.015    1.000   -0.022      0.010\n",
      "Size_MB       -0.001        -0.006   -0.022    1.000      0.031\n",
      "Price_USD     -0.005         0.001    0.010    0.031      1.000\n"
     ]
    }
   ],
   "source": [
    "# Textual EDA result\n",
    "print('See result below')"
   ]
  },
  {
   "cell_type": "code",
   "execution_count": 15,
   "id": "41b6e7f8",
   "metadata": {},
   "outputs": [
    {
     "name": "stdout",
     "output_type": "stream",
     "text": [
      "Top 15 Apps by Reviews:\n",
      "     App      Category  Reviews   Rating  Installs Type\n",
      "App_4283          GAME    69103 3.908113      1000 Free\n",
      "App_2396        FAMILY    64000 4.155613     50000 Free\n",
      "App_2522         TOOLS    55918 3.616897       500 Free\n",
      "App_3766     LIFESTYLE    55613 3.809292   5000000 Free\n",
      "App_4502         TOOLS    48043 4.175230      1000 Free\n",
      "App_4264        HEALTH    41977 4.344908       100 Free\n",
      "App_4227        HEALTH    38600 4.054564       100 Free\n",
      "App_3651         TOOLS    34691 4.059206      1000 Free\n",
      "App_3303         TOOLS    33452 3.848385       500 Free\n",
      "App_1243      SHOPPING    31925 3.317981      1000 Free\n",
      "App_3971 ENTERTAINMENT    28678 4.316883  10000000 Free\n",
      "App_1639     EDUCATION    26958 4.509223      1000 Free\n",
      " App_316         TOOLS    25656 4.063319    100000 Free\n",
      "App_2284          GAME    23676 3.529593      1000 Free\n",
      "App_4576      BUSINESS    22821 3.846291      5000 Free\n"
     ]
    }
   ],
   "source": [
    "# Textual EDA result\n",
    "print('See result below')"
   ]
  },
  {
   "cell_type": "code",
   "execution_count": 16,
   "id": "4c3b42c0",
   "metadata": {},
   "outputs": [
    {
     "name": "stdout",
     "output_type": "stream",
     "text": [
      "Paid apps price summary:\n",
      "count    371.000000\n",
      "mean       9.248760\n",
      "std       17.473467\n",
      "min        0.990000\n",
      "25%        1.990000\n",
      "50%        2.990000\n",
      "75%        4.990000\n",
      "max       99.990000\n"
     ]
    }
   ],
   "source": [
    "# Textual EDA result\n",
    "print('See result below')"
   ]
  },
  {
   "cell_type": "code",
   "execution_count": 17,
   "id": "d0253a2f",
   "metadata": {},
   "outputs": [
    {
     "name": "stdout",
     "output_type": "stream",
     "text": [
      "Apps updated in last 30 days: 3500 | in last 90 days: 3840\n"
     ]
    }
   ],
   "source": [
    "# Textual EDA result\n",
    "print('See result below')"
   ]
  },
  {
   "cell_type": "code",
   "execution_count": 18,
   "id": "a910934e",
   "metadata": {},
   "outputs": [
    {
     "name": "stdout",
     "output_type": "stream",
     "text": [
      "Top 10 most expensive paid apps:\n",
      "     App      Category  Price_USD   Rating  Installs\n",
      "App_3646 ENTERTAINMENT      99.99 4.258548     50000\n",
      "App_2608       FINANCE      99.99 4.093511      1000\n",
      "App_1438        FAMILY      99.99 3.865435    100000\n",
      "App_3428      SHOPPING      99.99 4.183542     10000\n",
      "App_2862     EDUCATION      99.99 3.754409     50000\n",
      "App_4042      BUSINESS      99.99 4.195270   5000000\n",
      " App_979     LIFESTYLE      99.99 4.222098     10000\n",
      " App_163 ENTERTAINMENT      99.99 4.197251  10000000\n",
      "App_3162         TOOLS      49.99 4.353291       100\n",
      "App_3824        FAMILY      49.99 5.000000     50000\n"
     ]
    }
   ],
   "source": [
    "# Textual EDA result\n",
    "print('See result below')"
   ]
  },
  {
   "cell_type": "code",
   "execution_count": 19,
   "id": "8bd49991",
   "metadata": {},
   "outputs": [
    {
     "name": "stdout",
     "output_type": "stream",
     "text": [
      "Top Genres by Median Rating:\n",
      "Genres\n",
      "Puzzle           4.107146\n",
      "Music            4.106641\n",
      "Tools            4.105603\n",
      "Action           4.099185\n",
      "Lifestyle        4.098480\n",
      "Education        4.091540\n",
      "Finance          4.087183\n",
      "Productivity     4.085666\n",
      "Shopping         4.070530\n",
      "Entertainment    4.059204\n"
     ]
    }
   ],
   "source": [
    "# Textual EDA result\n",
    "print('See result below')"
   ]
  },
  {
   "cell_type": "code",
   "execution_count": 20,
   "id": "94d4ea22",
   "metadata": {},
   "outputs": [
    {
     "name": "stdout",
     "output_type": "stream",
     "text": [
      "Content Rating Counts:\n",
      "Everyone        3528\n",
      "Teen             884\n",
      "Mature 17+       307\n",
      "Everyone 10+     281\n"
     ]
    }
   ],
   "source": [
    "# Textual EDA result\n",
    "print('See result below')"
   ]
  },
  {
   "cell_type": "code",
   "execution_count": 21,
   "id": "08f16a2f",
   "metadata": {},
   "outputs": [
    {
     "name": "stdout",
     "output_type": "stream",
     "text": [
      "Apps with Rating > 4.5: 790 (15.80%)\n"
     ]
    }
   ],
   "source": [
    "# Textual EDA result\n",
    "print('See result below')"
   ]
  },
  {
   "cell_type": "code",
   "execution_count": 22,
   "id": "c5f46e13",
   "metadata": {},
   "outputs": [
    {
     "name": "stdout",
     "output_type": "stream",
     "text": [
      "Top-rated app: App_1329 (Rating: 5.00)\n"
     ]
    }
   ],
   "source": [
    "# Textual EDA result\n",
    "print('See result below')"
   ]
  },
  {
   "cell_type": "code",
   "execution_count": 23,
   "id": "a51633fb",
   "metadata": {},
   "outputs": [
    {
     "name": "stdout",
     "output_type": "stream",
     "text": [
      "Most downloaded app: App_3396 (Installs: 10000000)\n"
     ]
    }
   ],
   "source": [
    "# Textual EDA result\n",
    "print('See result below')"
   ]
  },
  {
   "cell_type": "code",
   "execution_count": 24,
   "id": "12e87d0b",
   "metadata": {},
   "outputs": [
    {
     "name": "stdout",
     "output_type": "stream",
     "text": [
      "Apps count by Android minimum version:\n",
      "6.0 and up    849\n",
      "5.0 and up    847\n",
      "4.4 and up    835\n",
      "8.0 and up    832\n",
      "7.0 and up    822\n",
      "4.1 and up    815\n"
     ]
    }
   ],
   "source": [
    "# Textual EDA result\n",
    "print('See result below')"
   ]
  },
  {
   "cell_type": "code",
   "execution_count": 25,
   "id": "146a142c",
   "metadata": {},
   "outputs": [
    {
     "name": "stdout",
     "output_type": "stream",
     "text": [
      "Top 5 categories by average rating:\n",
      "Category\n",
      "LIFESTYLE    4.116\n",
      "FAMILY       4.115\n",
      "GAME         4.101\n",
      "HEALTH       4.101\n",
      "SHOPPING     4.090\n"
     ]
    }
   ],
   "source": [
    "# Textual EDA result\n",
    "print('See result below')"
   ]
  },
  {
   "cell_type": "code",
   "execution_count": 26,
   "id": "33759f6c",
   "metadata": {},
   "outputs": [
    {
     "name": "stdout",
     "output_type": "stream",
     "text": [
      "Median installs by category (top 10):\n",
      "Category\n",
      "EDUCATION        100000.0\n",
      "FINANCE          100000.0\n",
      "BUSINESS          50000.0\n",
      "ENTERTAINMENT     50000.0\n",
      "FAMILY            50000.0\n",
      "GAME              50000.0\n",
      "HEALTH            50000.0\n",
      "LIFESTYLE         50000.0\n",
      "MUSIC             50000.0\n",
      "PRODUCTIVITY      50000.0\n"
     ]
    }
   ],
   "source": [
    "# Textual EDA result\n",
    "print('See result below')"
   ]
  },
  {
   "cell_type": "code",
   "execution_count": 27,
   "id": "1daaa605",
   "metadata": {},
   "outputs": [
    {
     "name": "stdout",
     "output_type": "stream",
     "text": [
      "Distribution of Price (Paid apps) - unique prices:\n",
      "0.99, 1.99, 2.99, 4.99, 9.99, 19.99, 49.99, 99.99\n"
     ]
    }
   ],
   "source": [
    "# Textual EDA result\n",
    "print('See result below')"
   ]
  },
  {
   "cell_type": "code",
   "execution_count": 28,
   "id": "817cccb8",
   "metadata": {},
   "outputs": [
    {
     "name": "stdout",
     "output_type": "stream",
     "text": [
      "Average installs for paid vs free apps:\n",
      "Paid: 1660348 | Free: 1602097\n"
     ]
    }
   ],
   "source": [
    "# Textual EDA result\n",
    "print('See result below')"
   ]
  },
  {
   "cell_type": "code",
   "execution_count": 29,
   "id": "50db1766",
   "metadata": {},
   "outputs": [
    {
     "name": "stdout",
     "output_type": "stream",
     "text": [
      "Average rating by content rating:\n",
      "Content_Rating\n",
      "Everyone        4.090\n",
      "Everyone 10+    4.058\n",
      "Mature 17+      4.116\n",
      "Teen            4.093\n"
     ]
    }
   ],
   "source": [
    "# Textual EDA result\n",
    "print('See result below')"
   ]
  },
  {
   "cell_type": "code",
   "execution_count": 30,
   "id": "b0b1c7a4",
   "metadata": {},
   "outputs": [
    {
     "name": "stdout",
     "output_type": "stream",
     "text": [
      "Apps launched after 2024-01-01: 5000\n"
     ]
    }
   ],
   "source": [
    "# Textual EDA result\n",
    "print('See result below')"
   ]
  },
  {
   "cell_type": "code",
   "execution_count": 31,
   "id": "e52e5eff",
   "metadata": {},
   "outputs": [
    {
     "name": "stdout",
     "output_type": "stream",
     "text": [
      "Top 10 apps by price (paid):\n",
      "     App      Category  Price_USD   Rating  Installs\n",
      "App_3646 ENTERTAINMENT      99.99 4.258548     50000\n",
      "App_2608       FINANCE      99.99 4.093511      1000\n",
      "App_1438        FAMILY      99.99 3.865435    100000\n",
      "App_3428      SHOPPING      99.99 4.183542     10000\n",
      "App_2862     EDUCATION      99.99 3.754409     50000\n",
      "App_4042      BUSINESS      99.99 4.195270   5000000\n",
      " App_979     LIFESTYLE      99.99 4.222098     10000\n",
      " App_163 ENTERTAINMENT      99.99 4.197251  10000000\n",
      "App_3162         TOOLS      49.99 4.353291       100\n",
      "App_3824        FAMILY      49.99 5.000000     50000\n"
     ]
    }
   ],
   "source": [
    "# Textual EDA result\n",
    "print('See result below')"
   ]
  },
  {
   "cell_type": "code",
   "execution_count": 32,
   "id": "bb2c4279",
   "metadata": {},
   "outputs": [
    {
     "name": "stdout",
     "output_type": "stream",
     "text": [
      "Apps with Android_Ver '8.0 and up': 832\n"
     ]
    }
   ],
   "source": [
    "# Textual EDA result\n",
    "print('See result below')"
   ]
  },
  {
   "cell_type": "code",
   "execution_count": 33,
   "id": "f1a9aac6",
   "metadata": {},
   "outputs": [
    {
     "name": "stdout",
     "output_type": "stream",
     "text": [
      "End of textual EDA outputs.\n"
     ]
    }
   ],
   "source": [
    "# Textual EDA result\n",
    "print('See result below')"
   ]
  }
 ],
 "metadata": {
  "kernelspec": {
   "display_name": "Python 3",
   "name": "python3"
  },
  "language_info": {
   "name": "python"
  }
 },
 "nbformat": 4,
 "nbformat_minor": 5
}
